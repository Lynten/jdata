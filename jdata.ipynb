{
 "cells": [
  {
   "cell_type": "markdown",
   "metadata": {},
   "source": [
    "## Import Data"
   ]
  },
  {
   "cell_type": "code",
   "execution_count": 5,
   "metadata": {
    "collapsed": false
   },
   "outputs": [
    {
     "name": "stdout",
     "output_type": "stream",
     "text": [
      "(50601736, 7) (105321, 5) (24187, 6) (558552, 5)\n"
     ]
    }
   ],
   "source": [
    "import numpy as np\n",
    "import scipy as sp\n",
    "import pandas as pd\n",
    "\n",
    "WORKSPACE=r'/home/gld/JData/'\n",
    "df_action_2=pd.read_csv(WORKSPACE+'JData_Action_201602.csv')\n",
    "df_action_3=pd.read_csv(WORKSPACE+'JData_Action_201603.csv')\n",
    "df_action_4=pd.read_csv(WORKSPACE+'JData_Action_201604.csv')\n",
    "\n",
    "df_action=pd.concat((df_action_2,df_action_3,df_action_4))\n",
    "df_user=pd.read_csv(WORKSPACE+'JData_User.csv')\n",
    "df_product=pd.read_csv(WORKSPACE+'JData_Product.csv')\n",
    "df_comment=pd.read_csv(WORKSPACE+'JData_Comment.csv')\n",
    "\n",
    "print df_action.shape,df_user.shape,df_product.shape,df_comment.shape"
   ]
  },
  {
   "cell_type": "markdown",
   "metadata": {},
   "source": [
    "## Feature Analysis"
   ]
  },
  {
   "cell_type": "markdown",
   "metadata": {},
   "source": [
    "### User Feature"
   ]
  },
  {
   "cell_type": "markdown",
   "metadata": {},
   "source": [
    "### Product Feature"
   ]
  },
  {
   "cell_type": "markdown",
   "metadata": {},
   "source": [
    "### Action Feature"
   ]
  },
  {
   "cell_type": "markdown",
   "metadata": {},
   "source": []
  }
 ],
 "metadata": {
  "kernelspec": {
   "display_name": "Python 2",
   "language": "python",
   "name": "python2"
  },
  "language_info": {
   "codemirror_mode": {
    "name": "ipython",
    "version": 2
   },
   "file_extension": ".py",
   "mimetype": "text/x-python",
   "name": "python",
   "nbconvert_exporter": "python",
   "pygments_lexer": "ipython2",
   "version": "2.7.12"
  }
 },
 "nbformat": 4,
 "nbformat_minor": 2
}
